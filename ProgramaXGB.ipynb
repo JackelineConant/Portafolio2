{
 "cells": [
  {
   "cell_type": "markdown",
   "metadata": {},
   "source": [
    "# XGBoost y Decision Tree \n",
    "Se buscará hacer árboles de decisión para la busqueda de multiples labels."
   ]
  },
  {
   "cell_type": "markdown",
   "metadata": {},
   "source": [
    "Importar librerías y modelos "
   ]
  },
  {
   "cell_type": "code",
   "execution_count": 41,
   "metadata": {},
   "outputs": [],
   "source": [
    "import numpy as np\n",
    "import pandas as pd\n",
    "import xgboost as xgb\n",
    "from sklearn.model_selection import train_test_split, KFold, cross_val_score\n",
    "from sklearn.preprocessing import StandardScaler\n",
    "from sklearn import metrics \n",
    "from sklearn.metrics import confusion_matrix, accuracy_score, mean_squared_error\n",
    "from sklearn import preprocessing\n",
    "from sklearn.tree import DecisionTreeClassifier\n",
    "import matplotlib.pyplot as plt\n",
    "import seaborn as sns"
   ]
  },
  {
   "cell_type": "markdown",
   "metadata": {},
   "source": [
    "#### Importar base de datos \n",
    "Se va a utilizar una base de datos sobre géneros de música:<br>\n",
    "https://www.kaggle.com/datasets/mrmorj/dataset-of-songs-in-spotify/data"
   ]
  },
  {
   "cell_type": "code",
   "execution_count": 70,
   "metadata": {},
   "outputs": [
    {
     "name": "stderr",
     "output_type": "stream",
     "text": [
      "C:\\Users\\A01280544\\AppData\\Local\\Temp\\ipykernel_28468\\2439067423.py:2: DtypeWarning: Columns (19) have mixed types. Specify dtype option on import or set low_memory=False.\n",
      "  genre_data = pd.read_csv('genres_v2.csv')\n"
     ]
    }
   ],
   "source": [
    "#importar dataset csv\n",
    "genre_data = pd.read_csv('genres_v2.csv')\n"
   ]
  },
  {
   "cell_type": "markdown",
   "metadata": {},
   "source": [
    "Visualizamos la base de datos que vamos a utilizar:"
   ]
  },
  {
   "cell_type": "code",
   "execution_count": 71,
   "metadata": {},
   "outputs": [
    {
     "name": "stdout",
     "output_type": "stream",
     "text": [
      "   danceability  energy  key  loudness  mode  speechiness  acousticness  \\\n",
      "0         0.831   0.814    2    -7.364     1       0.4200        0.0598   \n",
      "1         0.719   0.493    8    -7.230     1       0.0794        0.4010   \n",
      "2         0.850   0.893    5    -4.783     1       0.0623        0.0138   \n",
      "3         0.476   0.781    0    -4.710     1       0.1030        0.0237   \n",
      "4         0.798   0.624    2    -7.668     1       0.2930        0.2170   \n",
      "\n",
      "   instrumentalness  liveness  valence  ...                      id  \\\n",
      "0          0.013400    0.0556   0.3890  ...  2Vc6NJ9PW9gD9q343XFRKx   \n",
      "1          0.000000    0.1180   0.1240  ...  7pgJBLVz5VmnL7uGHmRj6p   \n",
      "2          0.000004    0.3720   0.0391  ...  0vSWgAlfpye0WCGeNmuNhy   \n",
      "3          0.000000    0.1140   0.1750  ...  0VSXnJqQkwuH2ei1nOQ1nu   \n",
      "4          0.000000    0.1660   0.5910  ...  4jCeguq9rMTlbMmPHuO7S3   \n",
      "\n",
      "                                    uri  \\\n",
      "0  spotify:track:2Vc6NJ9PW9gD9q343XFRKx   \n",
      "1  spotify:track:7pgJBLVz5VmnL7uGHmRj6p   \n",
      "2  spotify:track:0vSWgAlfpye0WCGeNmuNhy   \n",
      "3  spotify:track:0VSXnJqQkwuH2ei1nOQ1nu   \n",
      "4  spotify:track:4jCeguq9rMTlbMmPHuO7S3   \n",
      "\n",
      "                                          track_href  \\\n",
      "0  https://api.spotify.com/v1/tracks/2Vc6NJ9PW9gD...   \n",
      "1  https://api.spotify.com/v1/tracks/7pgJBLVz5Vmn...   \n",
      "2  https://api.spotify.com/v1/tracks/0vSWgAlfpye0...   \n",
      "3  https://api.spotify.com/v1/tracks/0VSXnJqQkwuH...   \n",
      "4  https://api.spotify.com/v1/tracks/4jCeguq9rMTl...   \n",
      "\n",
      "                                        analysis_url duration_ms  \\\n",
      "0  https://api.spotify.com/v1/audio-analysis/2Vc6...      124539   \n",
      "1  https://api.spotify.com/v1/audio-analysis/7pgJ...      224427   \n",
      "2  https://api.spotify.com/v1/audio-analysis/0vSW...       98821   \n",
      "3  https://api.spotify.com/v1/audio-analysis/0VSX...      123661   \n",
      "4  https://api.spotify.com/v1/audio-analysis/4jCe...      123298   \n",
      "\n",
      "  time_signature      genre                                      song_name  \\\n",
      "0              4  Dark Trap                            Mercury: Retrograde   \n",
      "1              4  Dark Trap                                      Pathology   \n",
      "2              4  Dark Trap                                       Symbiote   \n",
      "3              3  Dark Trap  ProductOfDrugs (Prod. The Virus and Antidote)   \n",
      "4              4  Dark Trap                                          Venom   \n",
      "\n",
      "  Unnamed: 0 title  \n",
      "0        NaN   NaN  \n",
      "1        NaN   NaN  \n",
      "2        NaN   NaN  \n",
      "3        NaN   NaN  \n",
      "4        NaN   NaN  \n",
      "\n",
      "[5 rows x 22 columns]\n",
      "<class 'pandas.core.frame.DataFrame'>\n",
      "RangeIndex: 42305 entries, 0 to 42304\n",
      "Data columns (total 22 columns):\n",
      " #   Column            Non-Null Count  Dtype  \n",
      "---  ------            --------------  -----  \n",
      " 0   danceability      42305 non-null  float64\n",
      " 1   energy            42305 non-null  float64\n",
      " 2   key               42305 non-null  int64  \n",
      " 3   loudness          42305 non-null  float64\n",
      " 4   mode              42305 non-null  int64  \n",
      " 5   speechiness       42305 non-null  float64\n",
      " 6   acousticness      42305 non-null  float64\n",
      " 7   instrumentalness  42305 non-null  float64\n",
      " 8   liveness          42305 non-null  float64\n",
      " 9   valence           42305 non-null  float64\n",
      " 10  tempo             42305 non-null  float64\n",
      " 11  type              42305 non-null  object \n",
      " 12  id                42305 non-null  object \n",
      " 13  uri               42305 non-null  object \n",
      " 14  track_href        42305 non-null  object \n",
      " 15  analysis_url      42305 non-null  object \n",
      " 16  duration_ms       42305 non-null  int64  \n",
      " 17  time_signature    42305 non-null  int64  \n",
      " 18  genre             42305 non-null  object \n",
      " 19  song_name         21519 non-null  object \n",
      " 20  Unnamed: 0        20780 non-null  float64\n",
      " 21  title             20780 non-null  object \n",
      "dtypes: float64(10), int64(4), object(8)\n",
      "memory usage: 7.1+ MB\n",
      "None\n"
     ]
    }
   ],
   "source": [
    "print(genre_data.head())\n",
    "print(genre_data.info())"
   ]
  },
  {
   "cell_type": "markdown",
   "metadata": {},
   "source": [
    "Cambiamos el valor que contiene el género nuestro dataset:"
   ]
  },
  {
   "cell_type": "code",
   "execution_count": 44,
   "metadata": {},
   "outputs": [],
   "source": [
    "genre_data['genre'] = genre_data['genre'].astype(str)"
   ]
  },
  {
   "cell_type": "markdown",
   "metadata": {},
   "source": [
    "Cambiamos la columna de género a la nueva:"
   ]
  },
  {
   "cell_type": "code",
   "execution_count": 45,
   "metadata": {},
   "outputs": [],
   "source": [
    "genre_data.to_csv('genres_v2.csv', index=False)"
   ]
  },
  {
   "cell_type": "markdown",
   "metadata": {},
   "source": [
    "Droppeamos valores que nos son necesarios para el modelo de regresión multiclase. <br>\n",
    "<br>\n",
    "En este caso serian los que son strings y además tienen datos nulos no importantes como:<br>\n",
    "analysis_url, uri, mode, analysis_url, Unnamed: 0, id, song_name, track_href, title, key, type"
   ]
  },
  {
   "cell_type": "code",
   "execution_count": 46,
   "metadata": {},
   "outputs": [],
   "source": [
    "\n",
    "genre_data = genre_data.drop(columns=['analysis_url','uri','mode','analysis_url','Unnamed: 0', 'id','song_name','track_href','title','key','type' ])\n"
   ]
  },
  {
   "cell_type": "markdown",
   "metadata": {},
   "source": [
    "Visualizamos los datos que quedaron:"
   ]
  },
  {
   "cell_type": "code",
   "execution_count": 66,
   "metadata": {},
   "outputs": [
    {
     "name": "stdout",
     "output_type": "stream",
     "text": [
      "   danceability  energy  loudness  speechiness  acousticness  \\\n",
      "0         0.831   0.814    -7.364       0.4200        0.0598   \n",
      "1         0.719   0.493    -7.230       0.0794        0.4010   \n",
      "2         0.850   0.893    -4.783       0.0623        0.0138   \n",
      "3         0.476   0.781    -4.710       0.1030        0.0237   \n",
      "4         0.798   0.624    -7.668       0.2930        0.2170   \n",
      "\n",
      "   instrumentalness  liveness  valence    tempo  duration_ms  time_signature  \\\n",
      "0          0.013400    0.0556   0.3890  156.985       124539               4   \n",
      "1          0.000000    0.1180   0.1240  115.080       224427               4   \n",
      "2          0.000004    0.3720   0.0391  218.050        98821               4   \n",
      "3          0.000000    0.1140   0.1750  186.948       123661               3   \n",
      "4          0.000000    0.1660   0.5910  147.988       123298               4   \n",
      "\n",
      "   genre  \n",
      "0      0  \n",
      "1      0  \n",
      "2      0  \n",
      "3      0  \n",
      "4      0  \n",
      "<class 'pandas.core.frame.DataFrame'>\n",
      "RangeIndex: 42305 entries, 0 to 42304\n",
      "Data columns (total 12 columns):\n",
      " #   Column            Non-Null Count  Dtype  \n",
      "---  ------            --------------  -----  \n",
      " 0   danceability      42305 non-null  float64\n",
      " 1   energy            42305 non-null  float64\n",
      " 2   loudness          42305 non-null  float64\n",
      " 3   speechiness       42305 non-null  float64\n",
      " 4   acousticness      42305 non-null  float64\n",
      " 5   instrumentalness  42305 non-null  float64\n",
      " 6   liveness          42305 non-null  float64\n",
      " 7   valence           42305 non-null  float64\n",
      " 8   tempo             42305 non-null  float64\n",
      " 9   duration_ms       42305 non-null  int64  \n",
      " 10  time_signature    42305 non-null  int64  \n",
      " 11  genre             42305 non-null  int32  \n",
      "dtypes: float64(9), int32(1), int64(2)\n",
      "memory usage: 3.7 MB\n",
      "None\n"
     ]
    }
   ],
   "source": [
    "print(genre_data.head())\n",
    "print(genre_data.info())"
   ]
  },
  {
   "cell_type": "markdown",
   "metadata": {},
   "source": [
    "Utizamos una función de label encoder para convertir los géneros de musica que utilizaremos para nuestra classificación multiclase de Xgboost y Decision Tree"
   ]
  },
  {
   "cell_type": "code",
   "execution_count": 69,
   "metadata": {},
   "outputs": [
    {
     "name": "stdout",
     "output_type": "stream",
     "text": [
      "genre\n",
      "7     5875\n",
      "0     4578\n",
      "2     3028\n",
      "13    2999\n",
      "14    2987\n",
      "11    2975\n",
      "8     2966\n",
      "10    2961\n",
      "12    2956\n",
      "9     2936\n",
      "5     2099\n",
      "6     1956\n",
      "4     1848\n",
      "1     1680\n",
      "3      461\n",
      "Name: count, dtype: int64 \n",
      "\n",
      "   danceability  energy  loudness  speechiness  acousticness  \\\n",
      "0         0.831   0.814    -7.364       0.4200        0.0598   \n",
      "1         0.719   0.493    -7.230       0.0794        0.4010   \n",
      "2         0.850   0.893    -4.783       0.0623        0.0138   \n",
      "3         0.476   0.781    -4.710       0.1030        0.0237   \n",
      "4         0.798   0.624    -7.668       0.2930        0.2170   \n",
      "\n",
      "   instrumentalness  liveness  valence    tempo  duration_ms  time_signature  \\\n",
      "0          0.013400    0.0556   0.3890  156.985       124539               4   \n",
      "1          0.000000    0.1180   0.1240  115.080       224427               4   \n",
      "2          0.000004    0.3720   0.0391  218.050        98821               4   \n",
      "3          0.000000    0.1140   0.1750  186.948       123661               3   \n",
      "4          0.000000    0.1660   0.5910  147.988       123298               4   \n",
      "\n",
      "   genre  \n",
      "0      0  \n",
      "1      0  \n",
      "2      0  \n",
      "3      0  \n",
      "4      0  \n"
     ]
    }
   ],
   "source": [
    "# Utilizamos un label_encoder para identificar los datos que utilizaremos como label\n",
    "label_encoder = preprocessing.LabelEncoder()\n",
    "\n",
    "genre_data['genre']= label_encoder.fit_transform(genre_data['genre'])\n",
    "  \n",
    "genre_data['genre'].unique()\n",
    "\n",
    "print(genre_data['genre'].value_counts(),'\\n')\n",
    "\n",
    "#Visualizamos los datos nuevamente \n",
    "print(genre_data.head())"
   ]
  },
  {
   "cell_type": "markdown",
   "metadata": {},
   "source": [
    "Dividimos nuestras Features X de nuestras Label y"
   ]
  },
  {
   "cell_type": "code",
   "execution_count": 49,
   "metadata": {},
   "outputs": [],
   "source": [
    "X = genre_data.drop(columns=[\"genre\"])\n",
    "y = genre_data['genre']"
   ]
  },
  {
   "cell_type": "markdown",
   "metadata": {},
   "source": [
    "Estandarizamos los valores para evitar que las futuras predicciones tengan mucho ruido"
   ]
  },
  {
   "cell_type": "code",
   "execution_count": 50,
   "metadata": {},
   "outputs": [
    {
     "name": "stdout",
     "output_type": "stream",
     "text": [
      "[[ 1.22360786  0.2800791  -0.30551447 ...  0.39887636 -1.22699247\n",
      "   0.10218413]\n",
      " [ 0.50847965 -1.46618532 -0.25995376 ... -1.35856366 -0.25679629\n",
      "   0.10218413]\n",
      " [ 1.34492425  0.70984511  0.57203928 ...  2.95986132 -1.4767873\n",
      "   0.10218413]\n",
      " ...\n",
      " [-1.77737659  0.31815963  1.14358824 ...  0.31290208 -0.15582161\n",
      "   0.10218413]\n",
      " [-1.03670809  0.86216724  0.57407931 ...  0.10769616  0.70257007\n",
      "   0.10218413]\n",
      " [-0.70468428  0.99272907  0.20517353 ...  0.31759921 -0.861576\n",
      "   0.10218413]]\n"
     ]
    }
   ],
   "source": [
    "dataScaler = StandardScaler()\n",
    "scaler = dataScaler.fit(X)\n",
    "X_scaled = scaler.transform(X)\n",
    "#Visualizamos los valores\n",
    "print(X_scaled)"
   ]
  },
  {
   "cell_type": "markdown",
   "metadata": {},
   "source": [
    "Hacemos el split de los datos para crear Train y Test set"
   ]
  },
  {
   "cell_type": "code",
   "execution_count": 51,
   "metadata": {},
   "outputs": [],
   "source": [
    "X_train, X_test, y_train, y_test = train_test_split(X_scaled, y, test_size=0.2, random_state=42)"
   ]
  },
  {
   "cell_type": "markdown",
   "metadata": {},
   "source": [
    "## XgBoost"
   ]
  },
  {
   "cell_type": "code",
   "execution_count": 52,
   "metadata": {},
   "outputs": [
    {
     "data": {
      "text/html": [
       "<style>#sk-container-id-2 {\n",
       "  /* Definition of color scheme common for light and dark mode */\n",
       "  --sklearn-color-text: black;\n",
       "  --sklearn-color-line: gray;\n",
       "  /* Definition of color scheme for unfitted estimators */\n",
       "  --sklearn-color-unfitted-level-0: #fff5e6;\n",
       "  --sklearn-color-unfitted-level-1: #f6e4d2;\n",
       "  --sklearn-color-unfitted-level-2: #ffe0b3;\n",
       "  --sklearn-color-unfitted-level-3: chocolate;\n",
       "  /* Definition of color scheme for fitted estimators */\n",
       "  --sklearn-color-fitted-level-0: #f0f8ff;\n",
       "  --sklearn-color-fitted-level-1: #d4ebff;\n",
       "  --sklearn-color-fitted-level-2: #b3dbfd;\n",
       "  --sklearn-color-fitted-level-3: cornflowerblue;\n",
       "\n",
       "  /* Specific color for light theme */\n",
       "  --sklearn-color-text-on-default-background: var(--sg-text-color, var(--theme-code-foreground, var(--jp-content-font-color1, black)));\n",
       "  --sklearn-color-background: var(--sg-background-color, var(--theme-background, var(--jp-layout-color0, white)));\n",
       "  --sklearn-color-border-box: var(--sg-text-color, var(--theme-code-foreground, var(--jp-content-font-color1, black)));\n",
       "  --sklearn-color-icon: #696969;\n",
       "\n",
       "  @media (prefers-color-scheme: dark) {\n",
       "    /* Redefinition of color scheme for dark theme */\n",
       "    --sklearn-color-text-on-default-background: var(--sg-text-color, var(--theme-code-foreground, var(--jp-content-font-color1, white)));\n",
       "    --sklearn-color-background: var(--sg-background-color, var(--theme-background, var(--jp-layout-color0, #111)));\n",
       "    --sklearn-color-border-box: var(--sg-text-color, var(--theme-code-foreground, var(--jp-content-font-color1, white)));\n",
       "    --sklearn-color-icon: #878787;\n",
       "  }\n",
       "}\n",
       "\n",
       "#sk-container-id-2 {\n",
       "  color: var(--sklearn-color-text);\n",
       "}\n",
       "\n",
       "#sk-container-id-2 pre {\n",
       "  padding: 0;\n",
       "}\n",
       "\n",
       "#sk-container-id-2 input.sk-hidden--visually {\n",
       "  border: 0;\n",
       "  clip: rect(1px 1px 1px 1px);\n",
       "  clip: rect(1px, 1px, 1px, 1px);\n",
       "  height: 1px;\n",
       "  margin: -1px;\n",
       "  overflow: hidden;\n",
       "  padding: 0;\n",
       "  position: absolute;\n",
       "  width: 1px;\n",
       "}\n",
       "\n",
       "#sk-container-id-2 div.sk-dashed-wrapped {\n",
       "  border: 1px dashed var(--sklearn-color-line);\n",
       "  margin: 0 0.4em 0.5em 0.4em;\n",
       "  box-sizing: border-box;\n",
       "  padding-bottom: 0.4em;\n",
       "  background-color: var(--sklearn-color-background);\n",
       "}\n",
       "\n",
       "#sk-container-id-2 div.sk-container {\n",
       "  /* jupyter's `normalize.less` sets `[hidden] { display: none; }`\n",
       "     but bootstrap.min.css set `[hidden] { display: none !important; }`\n",
       "     so we also need the `!important` here to be able to override the\n",
       "     default hidden behavior on the sphinx rendered scikit-learn.org.\n",
       "     See: https://github.com/scikit-learn/scikit-learn/issues/21755 */\n",
       "  display: inline-block !important;\n",
       "  position: relative;\n",
       "}\n",
       "\n",
       "#sk-container-id-2 div.sk-text-repr-fallback {\n",
       "  display: none;\n",
       "}\n",
       "\n",
       "div.sk-parallel-item,\n",
       "div.sk-serial,\n",
       "div.sk-item {\n",
       "  /* draw centered vertical line to link estimators */\n",
       "  background-image: linear-gradient(var(--sklearn-color-text-on-default-background), var(--sklearn-color-text-on-default-background));\n",
       "  background-size: 2px 100%;\n",
       "  background-repeat: no-repeat;\n",
       "  background-position: center center;\n",
       "}\n",
       "\n",
       "/* Parallel-specific style estimator block */\n",
       "\n",
       "#sk-container-id-2 div.sk-parallel-item::after {\n",
       "  content: \"\";\n",
       "  width: 100%;\n",
       "  border-bottom: 2px solid var(--sklearn-color-text-on-default-background);\n",
       "  flex-grow: 1;\n",
       "}\n",
       "\n",
       "#sk-container-id-2 div.sk-parallel {\n",
       "  display: flex;\n",
       "  align-items: stretch;\n",
       "  justify-content: center;\n",
       "  background-color: var(--sklearn-color-background);\n",
       "  position: relative;\n",
       "}\n",
       "\n",
       "#sk-container-id-2 div.sk-parallel-item {\n",
       "  display: flex;\n",
       "  flex-direction: column;\n",
       "}\n",
       "\n",
       "#sk-container-id-2 div.sk-parallel-item:first-child::after {\n",
       "  align-self: flex-end;\n",
       "  width: 50%;\n",
       "}\n",
       "\n",
       "#sk-container-id-2 div.sk-parallel-item:last-child::after {\n",
       "  align-self: flex-start;\n",
       "  width: 50%;\n",
       "}\n",
       "\n",
       "#sk-container-id-2 div.sk-parallel-item:only-child::after {\n",
       "  width: 0;\n",
       "}\n",
       "\n",
       "/* Serial-specific style estimator block */\n",
       "\n",
       "#sk-container-id-2 div.sk-serial {\n",
       "  display: flex;\n",
       "  flex-direction: column;\n",
       "  align-items: center;\n",
       "  background-color: var(--sklearn-color-background);\n",
       "  padding-right: 1em;\n",
       "  padding-left: 1em;\n",
       "}\n",
       "\n",
       "\n",
       "/* Toggleable style: style used for estimator/Pipeline/ColumnTransformer box that is\n",
       "clickable and can be expanded/collapsed.\n",
       "- Pipeline and ColumnTransformer use this feature and define the default style\n",
       "- Estimators will overwrite some part of the style using the `sk-estimator` class\n",
       "*/\n",
       "\n",
       "/* Pipeline and ColumnTransformer style (default) */\n",
       "\n",
       "#sk-container-id-2 div.sk-toggleable {\n",
       "  /* Default theme specific background. It is overwritten whether we have a\n",
       "  specific estimator or a Pipeline/ColumnTransformer */\n",
       "  background-color: var(--sklearn-color-background);\n",
       "}\n",
       "\n",
       "/* Toggleable label */\n",
       "#sk-container-id-2 label.sk-toggleable__label {\n",
       "  cursor: pointer;\n",
       "  display: block;\n",
       "  width: 100%;\n",
       "  margin-bottom: 0;\n",
       "  padding: 0.5em;\n",
       "  box-sizing: border-box;\n",
       "  text-align: center;\n",
       "}\n",
       "\n",
       "#sk-container-id-2 label.sk-toggleable__label-arrow:before {\n",
       "  /* Arrow on the left of the label */\n",
       "  content: \"▸\";\n",
       "  float: left;\n",
       "  margin-right: 0.25em;\n",
       "  color: var(--sklearn-color-icon);\n",
       "}\n",
       "\n",
       "#sk-container-id-2 label.sk-toggleable__label-arrow:hover:before {\n",
       "  color: var(--sklearn-color-text);\n",
       "}\n",
       "\n",
       "/* Toggleable content - dropdown */\n",
       "\n",
       "#sk-container-id-2 div.sk-toggleable__content {\n",
       "  max-height: 0;\n",
       "  max-width: 0;\n",
       "  overflow: hidden;\n",
       "  text-align: left;\n",
       "  /* unfitted */\n",
       "  background-color: var(--sklearn-color-unfitted-level-0);\n",
       "}\n",
       "\n",
       "#sk-container-id-2 div.sk-toggleable__content.fitted {\n",
       "  /* fitted */\n",
       "  background-color: var(--sklearn-color-fitted-level-0);\n",
       "}\n",
       "\n",
       "#sk-container-id-2 div.sk-toggleable__content pre {\n",
       "  margin: 0.2em;\n",
       "  border-radius: 0.25em;\n",
       "  color: var(--sklearn-color-text);\n",
       "  /* unfitted */\n",
       "  background-color: var(--sklearn-color-unfitted-level-0);\n",
       "}\n",
       "\n",
       "#sk-container-id-2 div.sk-toggleable__content.fitted pre {\n",
       "  /* unfitted */\n",
       "  background-color: var(--sklearn-color-fitted-level-0);\n",
       "}\n",
       "\n",
       "#sk-container-id-2 input.sk-toggleable__control:checked~div.sk-toggleable__content {\n",
       "  /* Expand drop-down */\n",
       "  max-height: 200px;\n",
       "  max-width: 100%;\n",
       "  overflow: auto;\n",
       "}\n",
       "\n",
       "#sk-container-id-2 input.sk-toggleable__control:checked~label.sk-toggleable__label-arrow:before {\n",
       "  content: \"▾\";\n",
       "}\n",
       "\n",
       "/* Pipeline/ColumnTransformer-specific style */\n",
       "\n",
       "#sk-container-id-2 div.sk-label input.sk-toggleable__control:checked~label.sk-toggleable__label {\n",
       "  color: var(--sklearn-color-text);\n",
       "  background-color: var(--sklearn-color-unfitted-level-2);\n",
       "}\n",
       "\n",
       "#sk-container-id-2 div.sk-label.fitted input.sk-toggleable__control:checked~label.sk-toggleable__label {\n",
       "  background-color: var(--sklearn-color-fitted-level-2);\n",
       "}\n",
       "\n",
       "/* Estimator-specific style */\n",
       "\n",
       "/* Colorize estimator box */\n",
       "#sk-container-id-2 div.sk-estimator input.sk-toggleable__control:checked~label.sk-toggleable__label {\n",
       "  /* unfitted */\n",
       "  background-color: var(--sklearn-color-unfitted-level-2);\n",
       "}\n",
       "\n",
       "#sk-container-id-2 div.sk-estimator.fitted input.sk-toggleable__control:checked~label.sk-toggleable__label {\n",
       "  /* fitted */\n",
       "  background-color: var(--sklearn-color-fitted-level-2);\n",
       "}\n",
       "\n",
       "#sk-container-id-2 div.sk-label label.sk-toggleable__label,\n",
       "#sk-container-id-2 div.sk-label label {\n",
       "  /* The background is the default theme color */\n",
       "  color: var(--sklearn-color-text-on-default-background);\n",
       "}\n",
       "\n",
       "/* On hover, darken the color of the background */\n",
       "#sk-container-id-2 div.sk-label:hover label.sk-toggleable__label {\n",
       "  color: var(--sklearn-color-text);\n",
       "  background-color: var(--sklearn-color-unfitted-level-2);\n",
       "}\n",
       "\n",
       "/* Label box, darken color on hover, fitted */\n",
       "#sk-container-id-2 div.sk-label.fitted:hover label.sk-toggleable__label.fitted {\n",
       "  color: var(--sklearn-color-text);\n",
       "  background-color: var(--sklearn-color-fitted-level-2);\n",
       "}\n",
       "\n",
       "/* Estimator label */\n",
       "\n",
       "#sk-container-id-2 div.sk-label label {\n",
       "  font-family: monospace;\n",
       "  font-weight: bold;\n",
       "  display: inline-block;\n",
       "  line-height: 1.2em;\n",
       "}\n",
       "\n",
       "#sk-container-id-2 div.sk-label-container {\n",
       "  text-align: center;\n",
       "}\n",
       "\n",
       "/* Estimator-specific */\n",
       "#sk-container-id-2 div.sk-estimator {\n",
       "  font-family: monospace;\n",
       "  border: 1px dotted var(--sklearn-color-border-box);\n",
       "  border-radius: 0.25em;\n",
       "  box-sizing: border-box;\n",
       "  margin-bottom: 0.5em;\n",
       "  /* unfitted */\n",
       "  background-color: var(--sklearn-color-unfitted-level-0);\n",
       "}\n",
       "\n",
       "#sk-container-id-2 div.sk-estimator.fitted {\n",
       "  /* fitted */\n",
       "  background-color: var(--sklearn-color-fitted-level-0);\n",
       "}\n",
       "\n",
       "/* on hover */\n",
       "#sk-container-id-2 div.sk-estimator:hover {\n",
       "  /* unfitted */\n",
       "  background-color: var(--sklearn-color-unfitted-level-2);\n",
       "}\n",
       "\n",
       "#sk-container-id-2 div.sk-estimator.fitted:hover {\n",
       "  /* fitted */\n",
       "  background-color: var(--sklearn-color-fitted-level-2);\n",
       "}\n",
       "\n",
       "/* Specification for estimator info (e.g. \"i\" and \"?\") */\n",
       "\n",
       "/* Common style for \"i\" and \"?\" */\n",
       "\n",
       ".sk-estimator-doc-link,\n",
       "a:link.sk-estimator-doc-link,\n",
       "a:visited.sk-estimator-doc-link {\n",
       "  float: right;\n",
       "  font-size: smaller;\n",
       "  line-height: 1em;\n",
       "  font-family: monospace;\n",
       "  background-color: var(--sklearn-color-background);\n",
       "  border-radius: 1em;\n",
       "  height: 1em;\n",
       "  width: 1em;\n",
       "  text-decoration: none !important;\n",
       "  margin-left: 1ex;\n",
       "  /* unfitted */\n",
       "  border: var(--sklearn-color-unfitted-level-1) 1pt solid;\n",
       "  color: var(--sklearn-color-unfitted-level-1);\n",
       "}\n",
       "\n",
       ".sk-estimator-doc-link.fitted,\n",
       "a:link.sk-estimator-doc-link.fitted,\n",
       "a:visited.sk-estimator-doc-link.fitted {\n",
       "  /* fitted */\n",
       "  border: var(--sklearn-color-fitted-level-1) 1pt solid;\n",
       "  color: var(--sklearn-color-fitted-level-1);\n",
       "}\n",
       "\n",
       "/* On hover */\n",
       "div.sk-estimator:hover .sk-estimator-doc-link:hover,\n",
       ".sk-estimator-doc-link:hover,\n",
       "div.sk-label-container:hover .sk-estimator-doc-link:hover,\n",
       ".sk-estimator-doc-link:hover {\n",
       "  /* unfitted */\n",
       "  background-color: var(--sklearn-color-unfitted-level-3);\n",
       "  color: var(--sklearn-color-background);\n",
       "  text-decoration: none;\n",
       "}\n",
       "\n",
       "div.sk-estimator.fitted:hover .sk-estimator-doc-link.fitted:hover,\n",
       ".sk-estimator-doc-link.fitted:hover,\n",
       "div.sk-label-container:hover .sk-estimator-doc-link.fitted:hover,\n",
       ".sk-estimator-doc-link.fitted:hover {\n",
       "  /* fitted */\n",
       "  background-color: var(--sklearn-color-fitted-level-3);\n",
       "  color: var(--sklearn-color-background);\n",
       "  text-decoration: none;\n",
       "}\n",
       "\n",
       "/* Span, style for the box shown on hovering the info icon */\n",
       ".sk-estimator-doc-link span {\n",
       "  display: none;\n",
       "  z-index: 9999;\n",
       "  position: relative;\n",
       "  font-weight: normal;\n",
       "  right: .2ex;\n",
       "  padding: .5ex;\n",
       "  margin: .5ex;\n",
       "  width: min-content;\n",
       "  min-width: 20ex;\n",
       "  max-width: 50ex;\n",
       "  color: var(--sklearn-color-text);\n",
       "  box-shadow: 2pt 2pt 4pt #999;\n",
       "  /* unfitted */\n",
       "  background: var(--sklearn-color-unfitted-level-0);\n",
       "  border: .5pt solid var(--sklearn-color-unfitted-level-3);\n",
       "}\n",
       "\n",
       ".sk-estimator-doc-link.fitted span {\n",
       "  /* fitted */\n",
       "  background: var(--sklearn-color-fitted-level-0);\n",
       "  border: var(--sklearn-color-fitted-level-3);\n",
       "}\n",
       "\n",
       ".sk-estimator-doc-link:hover span {\n",
       "  display: block;\n",
       "}\n",
       "\n",
       "/* \"?\"-specific style due to the `<a>` HTML tag */\n",
       "\n",
       "#sk-container-id-2 a.estimator_doc_link {\n",
       "  float: right;\n",
       "  font-size: 1rem;\n",
       "  line-height: 1em;\n",
       "  font-family: monospace;\n",
       "  background-color: var(--sklearn-color-background);\n",
       "  border-radius: 1rem;\n",
       "  height: 1rem;\n",
       "  width: 1rem;\n",
       "  text-decoration: none;\n",
       "  /* unfitted */\n",
       "  color: var(--sklearn-color-unfitted-level-1);\n",
       "  border: var(--sklearn-color-unfitted-level-1) 1pt solid;\n",
       "}\n",
       "\n",
       "#sk-container-id-2 a.estimator_doc_link.fitted {\n",
       "  /* fitted */\n",
       "  border: var(--sklearn-color-fitted-level-1) 1pt solid;\n",
       "  color: var(--sklearn-color-fitted-level-1);\n",
       "}\n",
       "\n",
       "/* On hover */\n",
       "#sk-container-id-2 a.estimator_doc_link:hover {\n",
       "  /* unfitted */\n",
       "  background-color: var(--sklearn-color-unfitted-level-3);\n",
       "  color: var(--sklearn-color-background);\n",
       "  text-decoration: none;\n",
       "}\n",
       "\n",
       "#sk-container-id-2 a.estimator_doc_link.fitted:hover {\n",
       "  /* fitted */\n",
       "  background-color: var(--sklearn-color-fitted-level-3);\n",
       "}\n",
       "</style><div id=\"sk-container-id-2\" class=\"sk-top-container\"><div class=\"sk-text-repr-fallback\"><pre>XGBClassifier(base_score=None, booster=None, callbacks=None,\n",
       "              colsample_bylevel=None, colsample_bynode=None,\n",
       "              colsample_bytree=None, device=None, early_stopping_rounds=None,\n",
       "              enable_categorical=False, eval_metric=None, feature_types=None,\n",
       "              gamma=None, grow_policy=None, importance_type=None,\n",
       "              interaction_constraints=None, learning_rate=0.1, max_bin=None,\n",
       "              max_cat_threshold=None, max_cat_to_onehot=None,\n",
       "              max_delta_step=None, max_depth=12, max_leaves=None,\n",
       "              min_child_weight=None, missing=nan, monotone_constraints=None,\n",
       "              multi_strategy=None, n_estimators=200, n_jobs=None,\n",
       "              num_parallel_tree=None, objective=&#x27;multi:softprob&#x27;, ...)</pre><b>In a Jupyter environment, please rerun this cell to show the HTML representation or trust the notebook. <br />On GitHub, the HTML representation is unable to render, please try loading this page with nbviewer.org.</b></div><div class=\"sk-container\" hidden><div class=\"sk-item\"><div class=\"sk-estimator fitted sk-toggleable\"><input class=\"sk-toggleable__control sk-hidden--visually\" id=\"sk-estimator-id-2\" type=\"checkbox\" checked><label for=\"sk-estimator-id-2\" class=\"sk-toggleable__label fitted sk-toggleable__label-arrow fitted\">&nbsp;XGBClassifier<span class=\"sk-estimator-doc-link fitted\">i<span>Fitted</span></span></label><div class=\"sk-toggleable__content fitted\"><pre>XGBClassifier(base_score=None, booster=None, callbacks=None,\n",
       "              colsample_bylevel=None, colsample_bynode=None,\n",
       "              colsample_bytree=None, device=None, early_stopping_rounds=None,\n",
       "              enable_categorical=False, eval_metric=None, feature_types=None,\n",
       "              gamma=None, grow_policy=None, importance_type=None,\n",
       "              interaction_constraints=None, learning_rate=0.1, max_bin=None,\n",
       "              max_cat_threshold=None, max_cat_to_onehot=None,\n",
       "              max_delta_step=None, max_depth=12, max_leaves=None,\n",
       "              min_child_weight=None, missing=nan, monotone_constraints=None,\n",
       "              multi_strategy=None, n_estimators=200, n_jobs=None,\n",
       "              num_parallel_tree=None, objective=&#x27;multi:softprob&#x27;, ...)</pre></div> </div></div></div></div>"
      ],
      "text/plain": [
       "XGBClassifier(base_score=None, booster=None, callbacks=None,\n",
       "              colsample_bylevel=None, colsample_bynode=None,\n",
       "              colsample_bytree=None, device=None, early_stopping_rounds=None,\n",
       "              enable_categorical=False, eval_metric=None, feature_types=None,\n",
       "              gamma=None, grow_policy=None, importance_type=None,\n",
       "              interaction_constraints=None, learning_rate=0.1, max_bin=None,\n",
       "              max_cat_threshold=None, max_cat_to_onehot=None,\n",
       "              max_delta_step=None, max_depth=12, max_leaves=None,\n",
       "              min_child_weight=None, missing=nan, monotone_constraints=None,\n",
       "              multi_strategy=None, n_estimators=200, n_jobs=None,\n",
       "              num_parallel_tree=None, objective='multi:softprob', ...)"
      ]
     },
     "execution_count": 52,
     "metadata": {},
     "output_type": "execute_result"
    }
   ],
   "source": [
    "# Inicializamos nuestro modelo de Xgboost y agregamos los parámetros que utilizará para entrenar\n",
    "xgboost = xgb.XGBClassifier(\n",
    "    n_estimators=200, \n",
    "    max_depth=12, \n",
    "    learning_rate=0.1, \n",
    "    objective='multi:softprob')\n",
    "# Entrenamos con los datos del Train set\n",
    "xgboost.fit(X_train, y_train)"
   ]
  },
  {
   "cell_type": "markdown",
   "metadata": {},
   "source": [
    "Generamos predicciones con el test set "
   ]
  },
  {
   "cell_type": "code",
   "execution_count": 53,
   "metadata": {},
   "outputs": [
    {
     "name": "stdout",
     "output_type": "stream",
     "text": [
      "[ 5  0  1 11  3 12 12  5  7  7  4 12  6  2 12 13  4 10 14  7  7  0  8  0\n",
      " 12  2  1  0  0  9  8  3  7  8  7 13  6  8  4  7  0  2 12  0 14  6  6 11\n",
      "  7 11  2  8  1  5  0  7  9  9  5 10  0 11  7  0 14  5  9  8  7  7 13 14\n",
      "  2 13  1 12  9  5  8 11 13  9  6 14 11  9  9  7  7  6  7  0 11  7  0  9\n",
      "  7  0 10  2]\n"
     ]
    }
   ],
   "source": [
    "y_pred = xgboost.predict(X_test)\n",
    "#Mostrar las primeras 100 predicciónes\n",
    "print(y_pred[:100])"
   ]
  },
  {
   "cell_type": "code",
   "execution_count": 54,
   "metadata": {},
   "outputs": [
    {
     "name": "stdout",
     "output_type": "stream",
     "text": [
      "Misclassified samples: 2768\n",
      "              precision    recall  f1-score   support\n",
      "\n",
      "           0       0.54      0.47      0.50       970\n",
      "           1       0.73      0.74      0.73       341\n",
      "           2       0.43      0.40      0.41       621\n",
      "           3       0.24      0.11      0.15        98\n",
      "           4       0.45      0.32      0.37       341\n",
      "           5       0.40      0.35      0.37       396\n",
      "           6       0.34      0.30      0.32       384\n",
      "           7       0.39      0.50      0.44      1192\n",
      "           8       0.96      0.98      0.97       599\n",
      "           9       0.91      0.94      0.93       619\n",
      "          10       0.95      0.93      0.94       598\n",
      "          11       0.89      0.91      0.90       568\n",
      "          12       0.88      0.87      0.88       590\n",
      "          13       0.84      0.89      0.86       562\n",
      "          14       0.87      0.87      0.87       582\n",
      "\n",
      "    accuracy                           0.67      8461\n",
      "   macro avg       0.65      0.64      0.64      8461\n",
      "weighted avg       0.67      0.67      0.67      8461\n",
      "\n",
      "XGBoost Classifier Score: 0.6728519087578301\n"
     ]
    }
   ],
   "source": [
    "# Muetra los valores clasificados incorrectamente y un informe detallado de las métricas de clasificación, como precisión, recall y F1-score\n",
    "print('Misclassified samples: %d' % (y_test != y_pred).sum())\n",
    "print(metrics.classification_report(y_test, y_pred))\n",
    "\n",
    "# Precisión del modelo XGBoost comparando las predicciones con los valores reales\n",
    "y_pred_tree2 = xgboost.predict(X_test)\n",
    "print('XGBoost Classifier Score: {}'.format(accuracy_score(y_test, y_pred_tree2)))"
   ]
  },
  {
   "cell_type": "markdown",
   "metadata": {},
   "source": [
    "Cross Validation"
   ]
  },
  {
   "cell_type": "code",
   "execution_count": 55,
   "metadata": {},
   "outputs": [
    {
     "name": "stdout",
     "output_type": "stream",
     "text": [
      "Cross-Validation Scores: [0.66154573 0.66438194 0.65516426 0.66674545 0.6665091  0.66477541\n",
      " 0.67730496 0.66122931 0.6822695  0.66926714] \n",
      "\n",
      "Mean Score: 0.6669192825888843\n",
      "Standard Deviation Score: 0.007481096650047415\n"
     ]
    }
   ],
   "source": [
    "# Define la validación cruzada K-Fold con 10 particiones y mezcla aleatoria de los datos\n",
    "kfold = KFold(n_splits=10, shuffle=True)\n",
    "\n",
    "# Calcula las puntuaciones de validación cruzada usando el modelo XGBoost, los datos de entrada X e y, y el KFold definido\n",
    "score = cross_val_score(xgboost, X, y, cv=kfold)\n",
    "\n",
    "print(\"Cross-Validation Scores:\", score, \"\\n\")\n",
    "\n",
    "# Calcula la media de las puntuaciones obtenidas en la validación cruzada\n",
    "mean_score = np.mean(score)\n",
    "\n",
    "# Calcula la desviación estándar de las puntuaciones obtenidas en la validación cruzada\n",
    "std_dev_score = np.std(score)\n",
    "\n",
    "#Visualiza los valores de media y puntuación estándar\n",
    "print(\"Mean Score:\", mean_score)\n",
    "print(\"Standard Deviation Score:\", std_dev_score)"
   ]
  },
  {
   "cell_type": "code",
   "execution_count": 56,
   "metadata": {},
   "outputs": [
    {
     "name": "stderr",
     "output_type": "stream",
     "text": [
      "c:\\Users\\A01280544\\AppData\\Local\\Programs\\Python\\Python312\\Lib\\site-packages\\sklearn\\metrics\\_regression.py:492: FutureWarning: 'squared' is deprecated in version 1.4 and will be removed in 1.6. To calculate the root mean squared error, use the function'root_mean_squared_error'.\n",
      "  warnings.warn(\n"
     ]
    },
    {
     "name": "stdout",
     "output_type": "stream",
     "text": [
      "Bias: 1.1286865557862478\n",
      "Variance: 3.070903055097839\n"
     ]
    },
    {
     "name": "stderr",
     "output_type": "stream",
     "text": [
      "c:\\Users\\A01280544\\AppData\\Local\\Programs\\Python\\Python312\\Lib\\site-packages\\sklearn\\metrics\\_regression.py:492: FutureWarning: 'squared' is deprecated in version 1.4 and will be removed in 1.6. To calculate the root mean squared error, use the function'root_mean_squared_error'.\n",
      "  warnings.warn(\n"
     ]
    }
   ],
   "source": [
    "y_train_pred = xgboost.predict(X_train)\n",
    "train_error = mean_squared_error(y_train, y_train_pred, squared=False)  # RMSE de entrenamiento\n",
    "\n",
    "# Calcular el error de validación\n",
    "y_test_pred = xgboost.predict(X_test)\n",
    "test_error = mean_squared_error(y_test, y_test_pred, squared=False)  # RMSE de validación\n",
    "\n",
    "print(f'Bias: {train_error}')\n",
    "print(f'Variance: {test_error}')"
   ]
  },
  {
   "cell_type": "code",
   "execution_count": 57,
   "metadata": {},
   "outputs": [
    {
     "data": {
      "image/png": "[encoded data removed]",
      "text/plain": [
       "<Figure size 1200x1200 with 2 Axes>"
      ]
     },
     "metadata": {},
     "output_type": "display_data"
    }
   ],
   "source": [
    "#Gráfica una una matriz de confusión para mostrar las predicciones del modelo (y_pred) con los valores reales (y_test)\n",
    "xgb_cm = confusion_matrix(y_test, y_pred)\n",
    "fig = plt.subplots(figsize=(12, 12))\n",
    "ax = sns.heatmap(xgb_cm, annot=True, fmt=\"d\", cmap=\"Greens\")"
   ]
  },
  {
   "cell_type": "markdown",
   "metadata": {},
   "source": [
    "Grid Search"
   ]
  },
  {
   "cell_type": "code",
   "execution_count": 58,
   "metadata": {},
   "outputs": [
    {
     "name": "stdout",
     "output_type": "stream",
     "text": [
      "GS_XgBoost Classifier Score: 0.6950715045502895\n"
     ]
    }
   ],
   "source": [
    "#Función de Grid Search para encontrar los mejores parámetros del modelo de XGboost\n",
    "from sklearn.model_selection import GridSearchCV\n",
    "#Establece los parámetros\n",
    "parameters = {'n_estimators':(5, 50, 200),'max_depth':[2, 3, 10]}\n",
    "gs_rf_clf = GridSearchCV(xgboost, parameters)\n",
    "#Entrena con los valores a utilizar\n",
    "gs_rf_clf.fit(X_train, y_train)\n",
    "y_pred_gs_rf = gs_rf_clf.predict(X_test)\n",
    "print('GS_XgBoost Classifier Score: {}'.format(accuracy_score(y_test, y_pred_gs_rf)))"
   ]
  },
  {
   "cell_type": "markdown",
   "metadata": {},
   "source": [
    "## Decision Tree"
   ]
  },
  {
   "cell_type": "code",
   "execution_count": 59,
   "metadata": {},
   "outputs": [
    {
     "name": "stdout",
     "output_type": "stream",
     "text": [
      "[ 2  7  1 11  5 12 12  5  7  5  7 11  0  5 12 13  4  0 14  7  7  0  1 13\n",
      " 12 14  1  7  0 14  8  2  7  8  0 13  0  8  4  2  0  2 12  0 14  7  7 11\n",
      "  7 11  2  8  1  5  0  7  9  9  7  0  0 11  7  0 14  5  9  8  7  6 13 14\n",
      "  7 13  1 12  9  7  8 11 10  9  6 14 11  9  9  7  7  0  7  7 11  7  4  9\n",
      "  7 13  9  2]\n"
     ]
    }
   ],
   "source": [
    "# Inicializamos nuestro modelo de Xgboost y agregamos los parámetros que utilizará para entrenar\n",
    "dtree_model = DecisionTreeClassifier(max_depth = 14, random_state=42)\n",
    "dtree_model.fit(X_train, y_train) \n",
    "y_pred2 = dtree_model.predict(X_test) \n",
    "\n",
    "#Mostrar las primeras predicciónes\n",
    "print(y_pred2[:100])\n",
    "\n",
    "# Creating a confusion matrix que nos servirá parala gráfica de confusión que nos muestre los valores posteriormente\n",
    "cm = confusion_matrix(y_test, y_pred2)"
   ]
  },
  {
   "cell_type": "code",
   "execution_count": 60,
   "metadata": {},
   "outputs": [
    {
     "name": "stdout",
     "output_type": "stream",
     "text": [
      "Misclassified samples: 3167\n",
      "              precision    recall  f1-score   support\n",
      "\n",
      "           0       0.46      0.40      0.43       970\n",
      "           1       0.58      0.56      0.57       341\n",
      "           2       0.39      0.39      0.39       621\n",
      "           3       0.10      0.08      0.09        98\n",
      "           4       0.58      0.30      0.39       341\n",
      "           5       0.34      0.28      0.30       396\n",
      "           6       0.33      0.22      0.26       384\n",
      "           7       0.41      0.60      0.48      1192\n",
      "           8       0.96      0.94      0.95       599\n",
      "           9       0.84      0.87      0.85       619\n",
      "          10       0.92      0.87      0.90       598\n",
      "          11       0.84      0.84      0.84       568\n",
      "          12       0.81      0.80      0.81       590\n",
      "          13       0.77      0.80      0.79       562\n",
      "          14       0.80      0.76      0.78       582\n",
      "\n",
      "    accuracy                           0.63      8461\n",
      "   macro avg       0.61      0.58      0.59      8461\n",
      "weighted avg       0.63      0.63      0.62      8461\n",
      "\n",
      "Tree Classifier Score: 0.6256943623685144\n"
     ]
    }
   ],
   "source": [
    "# Muetra los valores clasificados incorrectamente y un informe detallado de las métricas de clasificación, como precisión, recall y F1-score\n",
    "print('Misclassified samples: %d' % (y_test != y_pred2).sum())\n",
    "print(metrics.classification_report(y_test, y_pred2))\n",
    "# Precisión del modelo Decision Tree comparando las predicciones con los valores reales\n",
    "y_pred_tree = dtree_model.predict(X_test)\n",
    "print('Tree Classifier Score: {}'.format(accuracy_score(y_test, y_pred_tree)))"
   ]
  },
  {
   "cell_type": "markdown",
   "metadata": {},
   "source": [
    "Cross Validation"
   ]
  },
  {
   "cell_type": "code",
   "execution_count": 61,
   "metadata": {},
   "outputs": [
    {
     "name": "stdout",
     "output_type": "stream",
     "text": [
      "Cross-Validation Scores: [0.61971165 0.62751123 0.62656582 0.6204207  0.63932876 0.62647754\n",
      " 0.63026005 0.62576832 0.61820331 0.62293144] \n",
      "\n",
      "Mean Score: 0.6257178832583772\n",
      "Standard Deviation Score: 0.0058203953580164\n"
     ]
    }
   ],
   "source": [
    "# Define la validación cruzada K-Fold con 10 particiones y mezcla aleatoria de los datos\n",
    "kfold = KFold(n_splits=10, shuffle=True)\n",
    "\n",
    "# Calcula las puntuaciones de validación cruzada usando el modelo Decision Tree, los datos de entrada X e y, y el KFold definido\n",
    "score = cross_val_score(dtree_model, X, y, cv=kfold)\n",
    "\n",
    "print(\"Cross-Validation Scores:\", score, \"\\n\")\n",
    "\n",
    "# Calcula la media de las puntuaciones obtenidas en la validación cruzada\n",
    "mean_score = np.mean(score)\n",
    "\n",
    "# Calcula la desviación estándar de las puntuaciones obtenidas en la validación cruzada\n",
    "std_dev_score = np.std(score)\n",
    "\n",
    "#Visualiza los valores de media y puntuación estándar\n",
    "print(\"Mean Score:\", mean_score)\n",
    "print(\"Standard Deviation Score:\", std_dev_score)"
   ]
  },
  {
   "cell_type": "code",
   "execution_count": 62,
   "metadata": {},
   "outputs": [
    {
     "name": "stdout",
     "output_type": "stream",
     "text": [
      "Bias: 2.4622489510963903\n",
      "Variance: 3.5115424175282945\n"
     ]
    },
    {
     "name": "stderr",
     "output_type": "stream",
     "text": [
      "c:\\Users\\A01280544\\AppData\\Local\\Programs\\Python\\Python312\\Lib\\site-packages\\sklearn\\metrics\\_regression.py:492: FutureWarning: 'squared' is deprecated in version 1.4 and will be removed in 1.6. To calculate the root mean squared error, use the function'root_mean_squared_error'.\n",
      "  warnings.warn(\n",
      "c:\\Users\\A01280544\\AppData\\Local\\Programs\\Python\\Python312\\Lib\\site-packages\\sklearn\\metrics\\_regression.py:492: FutureWarning: 'squared' is deprecated in version 1.4 and will be removed in 1.6. To calculate the root mean squared error, use the function'root_mean_squared_error'.\n",
      "  warnings.warn(\n"
     ]
    }
   ],
   "source": [
    "y_train_pred = dtree_model.predict(X_train)\n",
    "train_error = mean_squared_error(y_train, y_train_pred, squared=False)  # RMSE de entrenamiento\n",
    "\n",
    "# Calcular el error de validación\n",
    "y_test_pred = dtree_model.predict(X_test)\n",
    "test_error = mean_squared_error(y_test, y_test_pred, squared=False)  # RMSE de validación\n",
    "\n",
    "print(f'Bias: {train_error}')\n",
    "print(f'Variance: {test_error}')"
   ]
  },
  {
   "cell_type": "code",
   "execution_count": 63,
   "metadata": {},
   "outputs": [
    {
     "data": {
      "image/png": "[encoded data removed]",
      "text/plain": [
       "<Figure size 1200x1200 with 2 Axes>"
      ]
     },
     "metadata": {},
     "output_type": "display_data"
    }
   ],
   "source": [
    "#Gráfica una una matriz de confusión para mostrar las predicciones del modelo (y_pred) con los valores reales (y_test)\n",
    "fig = plt.subplots(figsize=(12, 12))\n",
    "ax = sns.heatmap(cm, annot=True, fmt=\"d\", cmap=\"Reds\")"
   ]
  },
  {
   "cell_type": "markdown",
   "metadata": {},
   "source": [
    "Grid Search"
   ]
  },
  {
   "cell_type": "code",
   "execution_count": 65,
   "metadata": {},
   "outputs": [
    {
     "name": "stdout",
     "output_type": "stream",
     "text": [
      "\n",
      "GS_DecisionTree Classifier Score: 0.6288854745301974\n"
     ]
    }
   ],
   "source": [
    "#Función de Grid Search para encontrar los mejores parámetros del modelo de XGboost\n",
    "from sklearn.model_selection import GridSearchCV\n",
    "#Establece los parámetros\n",
    "parameters = {'max_depth':[2, 3, 10, 15]}\n",
    "gs_dt_clf = GridSearchCV(dtree_model, parameters)\n",
    "#Entrena con los valores a utilizar\n",
    "gs_dt_clf.fit(X_train, y_train)\n",
    "y_pred_gs_dt = gs_dt_clf.predict(X_test)\n",
    "print('')\n",
    "print('GS_DecisionTree Classifier Score: {}'.format(accuracy_score(y_test, y_pred_gs_dt)))\n",
    "\n"
   ]
  }
 ],
 "metadata": {
  "kernelspec": {
   "display_name": "Python 3",
   "language": "python",
   "name": "python3"
  },
  "language_info": {
   "codemirror_mode": {
    "name": "ipython",
    "version": 3
   },
   "file_extension": ".py",
   "mimetype": "text/x-python",
   "name": "python",
   "nbconvert_exporter": "python",
   "pygments_lexer": "ipython3",
   "version": "3.12.5"
  }
 },
 "nbformat": 4,
 "nbformat_minor": 2
}
